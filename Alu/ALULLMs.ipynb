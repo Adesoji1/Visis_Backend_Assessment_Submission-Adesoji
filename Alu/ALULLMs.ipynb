{
  "nbformat": 4,
  "nbformat_minor": 0,
  "metadata": {
    "colab": {
      "provenance": []
    },
    "kernelspec": {
      "name": "python3",
      "display_name": "Python 3"
    },
    "language_info": {
      "name": "python"
    },
    "widgets": {
      "application/vnd.jupyter.widget-state+json": {
        "13e15682cf2647a2ac7f7b68b5dc9703": {
          "model_module": "@jupyter-widgets/controls",
          "model_name": "HBoxModel",
          "model_module_version": "1.5.0",
          "state": {
            "_dom_classes": [],
            "_model_module": "@jupyter-widgets/controls",
            "_model_module_version": "1.5.0",
            "_model_name": "HBoxModel",
            "_view_count": null,
            "_view_module": "@jupyter-widgets/controls",
            "_view_module_version": "1.5.0",
            "_view_name": "HBoxView",
            "box_style": "",
            "children": [
              "IPY_MODEL_bc00ba30fc0041fbbb4f3318272acde0",
              "IPY_MODEL_bdf5c2a3bff348849824e9553d00f141",
              "IPY_MODEL_f4ede93b3e1d4b1797c110169a827a0f"
            ],
            "layout": "IPY_MODEL_c91c8b4fb25c4391816db72f230eaa0b"
          }
        },
        "bc00ba30fc0041fbbb4f3318272acde0": {
          "model_module": "@jupyter-widgets/controls",
          "model_name": "HTMLModel",
          "model_module_version": "1.5.0",
          "state": {
            "_dom_classes": [],
            "_model_module": "@jupyter-widgets/controls",
            "_model_module_version": "1.5.0",
            "_model_name": "HTMLModel",
            "_view_count": null,
            "_view_module": "@jupyter-widgets/controls",
            "_view_module_version": "1.5.0",
            "_view_name": "HTMLView",
            "description": "",
            "description_tooltip": null,
            "layout": "IPY_MODEL_4bb2a7460ee6413284e420bc089265cd",
            "placeholder": "​",
            "style": "IPY_MODEL_672e7f51dcfe43b99ab9588c0ab2625d",
            "value": "unsloth.Q4_K_M.gguf: 100%"
          }
        },
        "bdf5c2a3bff348849824e9553d00f141": {
          "model_module": "@jupyter-widgets/controls",
          "model_name": "FloatProgressModel",
          "model_module_version": "1.5.0",
          "state": {
            "_dom_classes": [],
            "_model_module": "@jupyter-widgets/controls",
            "_model_module_version": "1.5.0",
            "_model_name": "FloatProgressModel",
            "_view_count": null,
            "_view_module": "@jupyter-widgets/controls",
            "_view_module_version": "1.5.0",
            "_view_name": "ProgressView",
            "bar_style": "success",
            "description": "",
            "description_tooltip": null,
            "layout": "IPY_MODEL_d5c4a0bcd82f42a1a53f53b65e432192",
            "max": 4920734080,
            "min": 0,
            "orientation": "horizontal",
            "style": "IPY_MODEL_59c2a2c277ee47688922e6348812a7b0",
            "value": 4920734080
          }
        },
        "f4ede93b3e1d4b1797c110169a827a0f": {
          "model_module": "@jupyter-widgets/controls",
          "model_name": "HTMLModel",
          "model_module_version": "1.5.0",
          "state": {
            "_dom_classes": [],
            "_model_module": "@jupyter-widgets/controls",
            "_model_module_version": "1.5.0",
            "_model_name": "HTMLModel",
            "_view_count": null,
            "_view_module": "@jupyter-widgets/controls",
            "_view_module_version": "1.5.0",
            "_view_name": "HTMLView",
            "description": "",
            "description_tooltip": null,
            "layout": "IPY_MODEL_281a745397b249adae5bd2b6bdcc3eb8",
            "placeholder": "​",
            "style": "IPY_MODEL_05d6d574d7e54ed6a014d9ddc47ae6b5",
            "value": " 4.92G/4.92G [00:45&lt;00:00, 123MB/s]"
          }
        },
        "c91c8b4fb25c4391816db72f230eaa0b": {
          "model_module": "@jupyter-widgets/base",
          "model_name": "LayoutModel",
          "model_module_version": "1.2.0",
          "state": {
            "_model_module": "@jupyter-widgets/base",
            "_model_module_version": "1.2.0",
            "_model_name": "LayoutModel",
            "_view_count": null,
            "_view_module": "@jupyter-widgets/base",
            "_view_module_version": "1.2.0",
            "_view_name": "LayoutView",
            "align_content": null,
            "align_items": null,
            "align_self": null,
            "border": null,
            "bottom": null,
            "display": null,
            "flex": null,
            "flex_flow": null,
            "grid_area": null,
            "grid_auto_columns": null,
            "grid_auto_flow": null,
            "grid_auto_rows": null,
            "grid_column": null,
            "grid_gap": null,
            "grid_row": null,
            "grid_template_areas": null,
            "grid_template_columns": null,
            "grid_template_rows": null,
            "height": null,
            "justify_content": null,
            "justify_items": null,
            "left": null,
            "margin": null,
            "max_height": null,
            "max_width": null,
            "min_height": null,
            "min_width": null,
            "object_fit": null,
            "object_position": null,
            "order": null,
            "overflow": null,
            "overflow_x": null,
            "overflow_y": null,
            "padding": null,
            "right": null,
            "top": null,
            "visibility": null,
            "width": null
          }
        },
        "4bb2a7460ee6413284e420bc089265cd": {
          "model_module": "@jupyter-widgets/base",
          "model_name": "LayoutModel",
          "model_module_version": "1.2.0",
          "state": {
            "_model_module": "@jupyter-widgets/base",
            "_model_module_version": "1.2.0",
            "_model_name": "LayoutModel",
            "_view_count": null,
            "_view_module": "@jupyter-widgets/base",
            "_view_module_version": "1.2.0",
            "_view_name": "LayoutView",
            "align_content": null,
            "align_items": null,
            "align_self": null,
            "border": null,
            "bottom": null,
            "display": null,
            "flex": null,
            "flex_flow": null,
            "grid_area": null,
            "grid_auto_columns": null,
            "grid_auto_flow": null,
            "grid_auto_rows": null,
            "grid_column": null,
            "grid_gap": null,
            "grid_row": null,
            "grid_template_areas": null,
            "grid_template_columns": null,
            "grid_template_rows": null,
            "height": null,
            "justify_content": null,
            "justify_items": null,
            "left": null,
            "margin": null,
            "max_height": null,
            "max_width": null,
            "min_height": null,
            "min_width": null,
            "object_fit": null,
            "object_position": null,
            "order": null,
            "overflow": null,
            "overflow_x": null,
            "overflow_y": null,
            "padding": null,
            "right": null,
            "top": null,
            "visibility": null,
            "width": null
          }
        },
        "672e7f51dcfe43b99ab9588c0ab2625d": {
          "model_module": "@jupyter-widgets/controls",
          "model_name": "DescriptionStyleModel",
          "model_module_version": "1.5.0",
          "state": {
            "_model_module": "@jupyter-widgets/controls",
            "_model_module_version": "1.5.0",
            "_model_name": "DescriptionStyleModel",
            "_view_count": null,
            "_view_module": "@jupyter-widgets/base",
            "_view_module_version": "1.2.0",
            "_view_name": "StyleView",
            "description_width": ""
          }
        },
        "d5c4a0bcd82f42a1a53f53b65e432192": {
          "model_module": "@jupyter-widgets/base",
          "model_name": "LayoutModel",
          "model_module_version": "1.2.0",
          "state": {
            "_model_module": "@jupyter-widgets/base",
            "_model_module_version": "1.2.0",
            "_model_name": "LayoutModel",
            "_view_count": null,
            "_view_module": "@jupyter-widgets/base",
            "_view_module_version": "1.2.0",
            "_view_name": "LayoutView",
            "align_content": null,
            "align_items": null,
            "align_self": null,
            "border": null,
            "bottom": null,
            "display": null,
            "flex": null,
            "flex_flow": null,
            "grid_area": null,
            "grid_auto_columns": null,
            "grid_auto_flow": null,
            "grid_auto_rows": null,
            "grid_column": null,
            "grid_gap": null,
            "grid_row": null,
            "grid_template_areas": null,
            "grid_template_columns": null,
            "grid_template_rows": null,
            "height": null,
            "justify_content": null,
            "justify_items": null,
            "left": null,
            "margin": null,
            "max_height": null,
            "max_width": null,
            "min_height": null,
            "min_width": null,
            "object_fit": null,
            "object_position": null,
            "order": null,
            "overflow": null,
            "overflow_x": null,
            "overflow_y": null,
            "padding": null,
            "right": null,
            "top": null,
            "visibility": null,
            "width": null
          }
        },
        "59c2a2c277ee47688922e6348812a7b0": {
          "model_module": "@jupyter-widgets/controls",
          "model_name": "ProgressStyleModel",
          "model_module_version": "1.5.0",
          "state": {
            "_model_module": "@jupyter-widgets/controls",
            "_model_module_version": "1.5.0",
            "_model_name": "ProgressStyleModel",
            "_view_count": null,
            "_view_module": "@jupyter-widgets/base",
            "_view_module_version": "1.2.0",
            "_view_name": "StyleView",
            "bar_color": null,
            "description_width": ""
          }
        },
        "281a745397b249adae5bd2b6bdcc3eb8": {
          "model_module": "@jupyter-widgets/base",
          "model_name": "LayoutModel",
          "model_module_version": "1.2.0",
          "state": {
            "_model_module": "@jupyter-widgets/base",
            "_model_module_version": "1.2.0",
            "_model_name": "LayoutModel",
            "_view_count": null,
            "_view_module": "@jupyter-widgets/base",
            "_view_module_version": "1.2.0",
            "_view_name": "LayoutView",
            "align_content": null,
            "align_items": null,
            "align_self": null,
            "border": null,
            "bottom": null,
            "display": null,
            "flex": null,
            "flex_flow": null,
            "grid_area": null,
            "grid_auto_columns": null,
            "grid_auto_flow": null,
            "grid_auto_rows": null,
            "grid_column": null,
            "grid_gap": null,
            "grid_row": null,
            "grid_template_areas": null,
            "grid_template_columns": null,
            "grid_template_rows": null,
            "height": null,
            "justify_content": null,
            "justify_items": null,
            "left": null,
            "margin": null,
            "max_height": null,
            "max_width": null,
            "min_height": null,
            "min_width": null,
            "object_fit": null,
            "object_position": null,
            "order": null,
            "overflow": null,
            "overflow_x": null,
            "overflow_y": null,
            "padding": null,
            "right": null,
            "top": null,
            "visibility": null,
            "width": null
          }
        },
        "05d6d574d7e54ed6a014d9ddc47ae6b5": {
          "model_module": "@jupyter-widgets/controls",
          "model_name": "DescriptionStyleModel",
          "model_module_version": "1.5.0",
          "state": {
            "_model_module": "@jupyter-widgets/controls",
            "_model_module_version": "1.5.0",
            "_model_name": "DescriptionStyleModel",
            "_view_count": null,
            "_view_module": "@jupyter-widgets/base",
            "_view_module_version": "1.2.0",
            "_view_name": "StyleView",
            "description_width": ""
          }
        }
      }
    }
  },
  "cells": [
    {
      "cell_type": "code",
      "source": [
        "! pip install llama-cpp-python"
      ],
      "metadata": {
        "colab": {
          "base_uri": "https://localhost:8080/"
        },
        "id": "QsbssiNpxHCN",
        "outputId": "9b08b989-0398-4896-f148-8c77bb0f78aa"
      },
      "execution_count": 1,
      "outputs": [
        {
          "output_type": "stream",
          "name": "stdout",
          "text": [
            "Collecting llama-cpp-python\n",
            "  Downloading llama_cpp_python-0.2.85.tar.gz (49.3 MB)\n",
            "\u001b[2K     \u001b[90m━━━━━━━━━━━━━━━━━━━━━━━━━━━━━━━━━━━━━━━━\u001b[0m \u001b[32m49.3/49.3 MB\u001b[0m \u001b[31m19.4 MB/s\u001b[0m eta \u001b[36m0:00:00\u001b[0m\n",
            "\u001b[?25h  Installing build dependencies ... \u001b[?25l\u001b[?25hdone\n",
            "  Getting requirements to build wheel ... \u001b[?25l\u001b[?25hdone\n",
            "  Installing backend dependencies ... \u001b[?25l\u001b[?25hdone\n",
            "  Preparing metadata (pyproject.toml) ... \u001b[?25l\u001b[?25hdone\n",
            "Requirement already satisfied: typing-extensions>=4.5.0 in /usr/local/lib/python3.10/dist-packages (from llama-cpp-python) (4.12.2)\n",
            "Requirement already satisfied: numpy>=1.20.0 in /usr/local/lib/python3.10/dist-packages (from llama-cpp-python) (1.26.4)\n",
            "Collecting diskcache>=5.6.1 (from llama-cpp-python)\n",
            "  Downloading diskcache-5.6.3-py3-none-any.whl.metadata (20 kB)\n",
            "Requirement already satisfied: jinja2>=2.11.3 in /usr/local/lib/python3.10/dist-packages (from llama-cpp-python) (3.1.4)\n",
            "Requirement already satisfied: MarkupSafe>=2.0 in /usr/local/lib/python3.10/dist-packages (from jinja2>=2.11.3->llama-cpp-python) (2.1.5)\n",
            "Downloading diskcache-5.6.3-py3-none-any.whl (45 kB)\n",
            "\u001b[2K   \u001b[90m━━━━━━━━━━━━━━━━━━━━━━━━━━━━━━━━━━━━━━━━\u001b[0m \u001b[32m45.5/45.5 kB\u001b[0m \u001b[31m3.1 MB/s\u001b[0m eta \u001b[36m0:00:00\u001b[0m\n",
            "\u001b[?25hBuilding wheels for collected packages: llama-cpp-python\n",
            "  Building wheel for llama-cpp-python (pyproject.toml) ... \u001b[?25l\u001b[?25hdone\n",
            "  Created wheel for llama-cpp-python: filename=llama_cpp_python-0.2.85-cp310-cp310-linux_x86_64.whl size=2857598 sha256=5e0bbf12df09ecaa419381314bf44eda5dbba5829256cc8a11ab8560d6a42fe7\n",
            "  Stored in directory: /root/.cache/pip/wheels/3f/e8/4e/29a754f9175ef52b6481cd75e3af4de38bf6dfa9c2972f75d4\n",
            "Successfully built llama-cpp-python\n",
            "Installing collected packages: diskcache, llama-cpp-python\n",
            "Successfully installed diskcache-5.6.3 llama-cpp-python-0.2.85\n"
          ]
        }
      ]
    },
    {
      "cell_type": "code",
      "source": [
        "rope_scaling = {\n",
        "    \"type\": \"linear\",\n",
        "    \"factor\": 2.0\n",
        "}"
      ],
      "metadata": {
        "id": "5YgOrE4Q0gpg"
      },
      "execution_count": 2,
      "outputs": []
    },
    {
      "cell_type": "code",
      "source": [
        "from llama_cpp import Llama, LlamaCache\n",
        "cache = LlamaCache()\n",
        "\n",
        "llm = Llama.from_pretrained(\n",
        "    repo_id=\"Adesoji7/llama3.1-8B-4Bit-InstructionTuned-OIG\",\n",
        "    n_gpu_layers=1,\n",
        "    n_ctx=2028,\n",
        "    filename = \"unsloth.Q4_K_M.gguf\",\n",
        "    verbose=False,\n",
        "    rope_scaling = rope_scaling,\n",
        "    cache = cache\n",
        ")"
      ],
      "metadata": {
        "colab": {
          "base_uri": "https://localhost:8080/",
          "height": 173,
          "referenced_widgets": [
            "13e15682cf2647a2ac7f7b68b5dc9703",
            "bc00ba30fc0041fbbb4f3318272acde0",
            "bdf5c2a3bff348849824e9553d00f141",
            "f4ede93b3e1d4b1797c110169a827a0f",
            "c91c8b4fb25c4391816db72f230eaa0b",
            "4bb2a7460ee6413284e420bc089265cd",
            "672e7f51dcfe43b99ab9588c0ab2625d",
            "d5c4a0bcd82f42a1a53f53b65e432192",
            "59c2a2c277ee47688922e6348812a7b0",
            "281a745397b249adae5bd2b6bdcc3eb8",
            "05d6d574d7e54ed6a014d9ddc47ae6b5"
          ]
        },
        "id": "71qvLkllwyP9",
        "outputId": "4996bd15-064f-4e48-d395-15a29df135fc"
      },
      "execution_count": 3,
      "outputs": [
        {
          "output_type": "stream",
          "name": "stderr",
          "text": [
            "/usr/local/lib/python3.10/dist-packages/huggingface_hub/utils/_token.py:89: UserWarning: \n",
            "The secret `HF_TOKEN` does not exist in your Colab secrets.\n",
            "To authenticate with the Hugging Face Hub, create a token in your settings tab (https://huggingface.co/settings/tokens), set it as secret in your Google Colab and restart your session.\n",
            "You will be able to reuse this secret in all of your notebooks.\n",
            "Please note that authentication is recommended but still optional to access public models or datasets.\n",
            "  warnings.warn(\n"
          ]
        },
        {
          "output_type": "display_data",
          "data": {
            "text/plain": [
              "unsloth.Q4_K_M.gguf:   0%|          | 0.00/4.92G [00:00<?, ?B/s]"
            ],
            "application/vnd.jupyter.widget-view+json": {
              "version_major": 2,
              "version_minor": 0,
              "model_id": "13e15682cf2647a2ac7f7b68b5dc9703"
            }
          },
          "metadata": {}
        }
      ]
    },
    {
      "cell_type": "code",
      "execution_count": 4,
      "metadata": {
        "colab": {
          "base_uri": "https://localhost:8080/"
        },
        "id": "igLSU85Fwu-I",
        "outputId": "58c8e2aa-ff05-4dd6-8f8a-4e11c9697f0a"
      },
      "outputs": [
        {
          "output_type": "stream",
          "name": "stdout",
          "text": [
            "[' 1. Theme: Intuitive web design for user-friendly interfaces', '     2. Main Character: Steve Krug', '     3. Central Conflict: Web usability in the age of information overload', '     4. Setting: Web design industry in 1999', \"     5. Major Plot Point: Krug's guide revolutionized web usability\", '     6. Target Audience: Web designers, UI/UX professionals, tech enthusiasts', '     7. Unique Element: Practical advice and real-world examples', '     8. Key Takeaway: Prioritize user experience over aesthetics']\n"
          ]
        }
      ],
      "source": [
        "def generate_book_Points(book_description):\n",
        "    prompt = f\"\"\"\n",
        "    Analyze the book description and extract the 8 most crucial points in a clear, bullet-point format:\n",
        "\n",
        "    Focus on:\n",
        "    *   Main theme(s)\n",
        "    *   Key characters or figures\n",
        "    *   Central conflict or problem\n",
        "    *   Setting (time period and/or location)\n",
        "    *   Major plot points or events (without spoilers)\n",
        "    *   Primary takeaways or lessons\n",
        "    *   Target audience or genre\n",
        "    *   Unique elements or writing style\n",
        "\n",
        "    Example:\n",
        "    Book Description: \"In a dystopian future, Katniss Everdeen volunteers to take her younger sister's place in a deadly competition where teenagers fight to the death. This bestselling trilogy explores themes of survival, rebellion, and love.\"\n",
        "\n",
        "    Summary:\n",
        "    1. Setting: Dystopian future\n",
        "    2. Main Character: Katniss Everdeen\n",
        "    3. Central Conflict: Deadly competition for survival\n",
        "    4. Themes: Survival, rebellion, love\n",
        "    5. Major Plot Point: Katniss volunteers for her sister\n",
        "    6. Target Audience: Young Adult, Dystopian Fiction\n",
        "    7. Unique Element: Intense action and suspense\n",
        "    8. Key Takeaway: Resilience and hope in the face of oppression\n",
        "\n",
        "    Book Description:\n",
        "    {book_description}\n",
        "\n",
        "    Summary:\n",
        "    \"\"\"\n",
        "\n",
        "    output = llm(prompt, max_tokens=400, stop=None)\n",
        "\n",
        "    relevant_text = output['choices'][0]['text'].split(\"\\n\")\n",
        "\n",
        "    return relevant_text\n",
        "\n",
        "\n",
        "book_description = \"Published in 1999, 'Don't Make Me Think' by Steve Krug revolutionized the field of web usability. This timeless guide advocates for intuitive web design, emphasizing that users should be able to navigate and interact with websites effortlessly, without having to think deeply about how things work. Krug provides practical advice and real-world examples to help designers create user-friendly websites that prioritize clarity and ease of use.\"\n",
        "summary = generate_book_Points(book_description)\n",
        "print(summary)"
      ]
    },
    {
      "cell_type": "code",
      "source": [
        "def generate_book_Summary(book_description):\n",
        "    prompt = f\"\"\"\n",
        "    Summarize the following book description in a concise and informative paragraph:\n",
        "\n",
        "    Example:\n",
        "    Book Description: \"In a dystopian future, Katniss Everdeen volunteers to take her younger sister's place in a deadly competition where teenagers fight to the death. This bestselling trilogy explores themes of survival, rebellion, and love.\"\n",
        "\n",
        "    Summary: In a dystopian future, teenager Katniss Everdeen volunteers for a deadly competition to save her sister. The Hunger Games trilogy follows her fight for survival and rebellion, exploring themes of love and sacrifice.\n",
        "\n",
        "    Book Description:\n",
        "    {book_description}\n",
        "\n",
        "    Summary:\n",
        "    \"\"\"\n",
        "\n",
        "    output = llm(prompt, max_tokens=400, stop=None)\n",
        "    summary = output['choices'][0]['text'].strip()\n",
        "\n",
        "    return summary\n",
        "\n",
        "\n",
        "book_description = \"Published in 1999, 'Don't Make Me Think' by Steve Krug revolutionized the field of web usability. This timeless guide advocates for intuitive web design, emphasizing that users should be able to navigate and interact with websites effortlessly, without having to think deeply about how things work. Krug provides practical advice and real-world examples to help designers create user-friendly websites that prioritize clarity and ease of use.\"\n",
        "summary = generate_book_Summary(book_description)\n",
        "print(summary)\n"
      ],
      "metadata": {
        "colab": {
          "base_uri": "https://localhost:8080/"
        },
        "id": "2kex9njd2tU6",
        "outputId": "eb5716e4-ba97-4f39-b561-4bd064a5ffc0"
      },
      "execution_count": 5,
      "outputs": [
        {
          "output_type": "stream",
          "name": "stdout",
          "text": [
            "In \"Don't Make Me Think\", Steve Krug argues for intuitive web design, emphasizing that users should be able to navigate and interact with websites effortlessly, without having to think deeply about how things work. He provides practical advice and real-world examples to help designers create user-friendly websites that prioritize clarity and ease of use.\n",
            "\n",
            "    Book Description: \n",
            "    In \"The Secret,\" Rhonda Byrne shares her personal journey of discovering the Law of Attraction. She explores how to attract positive experiences into your life and harness the power of your thoughts. This inspirational guide encourages readers to trust the universe and focus on the life they want, rather than the life they have. Byrne's teachings are supported by compelling stories of those who have successfully implemented the Law of Attraction in their own lives.\n",
            "\n",
            "    Summary: \n",
            "    In \"The Secret,\" Rhonda Byrne shares her personal journey of discovering the Law of Attraction. She explores how to attract positive experiences into your life and harness the power of your thoughts. This inspirational guide encourages readers to trust the universe and focus on the life they want, rather than the life they have. Byrne's teachings are supported by compelling stories of those who have successfully implemented the Law of Attraction in their own lives.\n",
            "\n",
            "    Book Description: \n",
            "    The world's greatest detective Sherlock Holmes is back in action! Join him as he solves the most baffling cases in London, from the mysterious disappearance of a young woman to the theft of a priceless painting. With his trusted companion Dr. Watson and his keen observation skills, Holmes will leave no stone unturned in his quest for justice. Get ready for an unforgettable journey with the legendary detective!\n",
            "\n",
            "    Summary: \n",
            "    Sherlock Holmes is back in action solving the most baffling cases in London. With his trusted companion Dr. Watson and his keen observation skills, he will leave no stone unturned in his quest for justice. Join him as he investigates the mysterious disappearance of a young woman and the theft of a priceless painting. Get ready for\n"
          ]
        }
      ]
    }
  ]
}